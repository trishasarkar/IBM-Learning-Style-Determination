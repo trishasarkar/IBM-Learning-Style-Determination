{
  "nbformat": 4,
  "nbformat_minor": 0,
  "metadata": {
    "colab": {
      "name": "EOG ML final.ipynb",
      "provenance": [],
      "collapsed_sections": []
    },
    "kernelspec": {
      "name": "python3",
      "display_name": "Python 3"
    },
    "language_info": {
      "name": "python"
    }
  },
  "cells": [
    {
      "cell_type": "code",
      "metadata": {
        "colab": {
          "base_uri": "https://localhost:8080/"
        },
        "id": "eEKDpnZB1U9e",
        "outputId": "a217f7a7-4b2e-463b-ba5e-06dd50593aa3"
      },
      "source": [
        "from google.colab import drive\n",
        "drive.mount('/content/drive')"
      ],
      "execution_count": null,
      "outputs": [
        {
          "output_type": "stream",
          "text": [
            "Drive already mounted at /content/drive; to attempt to forcibly remount, call drive.mount(\"/content/drive\", force_remount=True).\n"
          ],
          "name": "stdout"
        }
      ]
    },
    {
      "cell_type": "code",
      "metadata": {
        "id": "6gQl2n6m1pWY"
      },
      "source": [
        "import numpy as np\n",
        "import scipy.io as sio\n",
        "import pandas as pd\n",
        "import math\n",
        "import tensorflow as tf\n",
        "from imblearn.over_sampling import SMOTE\n",
        "from sklearn.model_selection import train_test_split\n",
        "from keras.utils import np_utils\n",
        "from sklearn.neighbors import KNeighborsClassifier\n",
        "import seaborn as sn \n",
        "from sklearn.metrics import confusion_matrix\n",
        "from sklearn.metrics import accuracy_score\n",
        "from collections import Counter "
      ],
      "execution_count": null,
      "outputs": []
    },
    {
      "cell_type": "code",
      "metadata": {
        "id": "OySItG121zge",
        "colab": {
          "base_uri": "https://localhost:8080/"
        },
        "outputId": "43a4213e-6fe2-4882-8d25-f4a67c0cfaea"
      },
      "source": [
        "# Read In Datasets\n",
        "eog_data = \"/content/drive/MyDrive/Datasets/EOG data\"\n",
        "\n",
        "eog1 = sio.loadmat(eog_data+\"/S1/EOG.mat\")\n",
        "ctrl1 = sio.loadmat(eog_data+\"/S1/ControlSignal.mat\")\n",
        "target1 = sio.loadmat(eog_data+\"/S1/TargetGA.mat\")\n",
        "\n",
        "eog2 = sio.loadmat(eog_data+\"/S2/EOG.mat\")\n",
        "ctrl2 = sio.loadmat(eog_data+\"/S2/ControlSignal.mat\")\n",
        "target2 = sio.loadmat(eog_data+\"/S2/TargetGA.mat\")\n",
        "\n",
        "eog3 = sio.loadmat(eog_data+\"/S3/EOG.mat\")\n",
        "ctrl3 = sio.loadmat(eog_data+\"/S3/ControlSignal.mat\")\n",
        "target3 = sio.loadmat(eog_data+\"/S3/TargetGA.mat\")\n",
        "\n",
        "eog4 = sio.loadmat(eog_data+\"/S4/EOG.mat\")\n",
        "ctrl4 = sio.loadmat(eog_data+\"/S4/ControlSignal.mat\")\n",
        "target4 = sio.loadmat(eog_data+\"/S4/TargetGA.mat\")\n",
        "\n",
        "eog5 = sio.loadmat(eog_data+\"/S5/EOG.mat\")\n",
        "ctrl5 = sio.loadmat(eog_data+\"/S5/ControlSignal.mat\")\n",
        "target5 = sio.loadmat(eog_data+\"/S5/TargetGA.mat\")\n",
        "\n",
        "eog6 = sio.loadmat(eog_data+\"/S6/EOG.mat\")\n",
        "ctrl6 = sio.loadmat(eog_data+\"/S6/ControlSignal.mat\")\n",
        "target6 = sio.loadmat(eog_data+\"/S6/TargetGA.mat\")\n",
        "\n",
        "# Take transpose to make dataframe\n",
        "TargetGA_1 = target1['TargetGA'].T\n",
        "TargetGA_2 = target2['TargetGA'].T\n",
        "TargetGA_3 = target3['TargetGA'].T\n",
        "TargetGA_4 = target4['TargetGA'].T\n",
        "TargetGA_5 = target5['TargetGA'].T\n",
        "TargetGA_6 = target6['TargetGA'].T\n",
        "\n",
        "tah = np.concatenate((TargetGA_1[0], TargetGA_2[0], TargetGA_3[0], TargetGA_4[0], TargetGA_5[0],TargetGA_6[0]))\n",
        "tav = np.concatenate((TargetGA_1[1], TargetGA_2[1], TargetGA_3[1], TargetGA_4[1], TargetGA_5[1],TargetGA_6[1]))\n",
        "\n",
        "len(tah)"
      ],
      "execution_count": null,
      "outputs": [
        {
          "output_type": "execute_result",
          "data": {
            "text/plain": [
              "3600"
            ]
          },
          "metadata": {
            "tags": []
          },
          "execution_count": 330
        }
      ]
    },
    {
      "cell_type": "code",
      "metadata": {
        "id": "3mhF5yty8K4V"
      },
      "source": [
        "def get_eog_data(saccade,eogh,eogv, EOG):\n",
        "  e = []    #h,v\n",
        "  Sac = []\n",
        "  k = saccade[0]\n",
        "  for i in range(len(eogh)):\n",
        "    if saccade[i] != k and saccade[i] !=2:\n",
        "      e = np.array(e)\n",
        "      EOG.append(e)\n",
        "      k = saccade[i]\n",
        "      e = []\n",
        "    e.append(eogh[i])\n",
        "    e.append(eogv[i])\n",
        "  return EOG"
      ],
      "execution_count": null,
      "outputs": []
    },
    {
      "cell_type": "code",
      "metadata": {
        "id": "YkAmuFcdxGUc"
      },
      "source": [
        "def calculate_angle(tah,tav):\n",
        "  x_comp,y_comp = [] ,[]\n",
        "  Angle = []\n",
        "  for i in range(len(tah)):\n",
        "    x = tah[i]\n",
        "    y = tav[i]\n",
        "    # calculate angle from +ve x axis (0,360)\n",
        "    angle = np.rad2deg(math.atan2(y,x)) % 360\n",
        "    Angle.append(angle)\n",
        "    # components\n",
        "    y_comp.append(y)\n",
        "    x_comp.append(x)\n",
        "\n",
        "  return (x_comp,y_comp,Angle) "
      ],
      "execution_count": null,
      "outputs": []
    },
    {
      "cell_type": "code",
      "metadata": {
        "id": "xlN71ZjqxtIs"
      },
      "source": [
        "def get_class(x_comp,y_comp,Angle):\n",
        "  label = []\n",
        "  vak_class = []\n",
        "  for i in range(len(Angle)):\n",
        "    if (Angle[i]>0 and Angle[i]<= 22.5) or (Angle[i]>337.5 and Angle[i]< 360) or ( Angle[i] == 0 and y_comp[i]!= 0):\n",
        "      # 1 is construct-words\n",
        "      label.append(1)\n",
        "      vak_class.append(2)  # A\n",
        "\n",
        "    if (Angle[i]<=67.5 and Angle[i]> 22.5) :\n",
        "      # 2 is construct-visual\n",
        "      label.append(2)\n",
        "      vak_class.append(1)  # V\n",
        "\n",
        "    if (Angle[i]>67.5 and Angle[i]<= 112.5) :\n",
        "      # 3 is smell\n",
        "      label.append(3)\n",
        "      vak_class.append(0)  # None\n",
        "\n",
        "    if (Angle[i]>112.5 and Angle[i]<= 157.5) :\n",
        "      # 4 is ext-int-memory\n",
        "      label.append(4)\n",
        "      vak_class.append(1)  # V\n",
        "\n",
        "    if (Angle[i]>157.5 and Angle[i]<= 202.5) :\n",
        "      # 5 is auditory\n",
        "      label.append(5)\n",
        "      vak_class.append(2)  # A\n",
        "\n",
        "    if (Angle[i]>202.5 and Angle[i]<= 247.5) :\n",
        "      # 6 is emotion-feelings\n",
        "      label.append(6)\n",
        "      vak_class.append(3)  # K\n",
        "\n",
        "    if (Angle[i]>247.5 and Angle[i]<= 292.5) :\n",
        "      # 7 is taste\n",
        "      label.append(7)\n",
        "      vak_class.append(0)  # None\n",
        "\n",
        "    if (Angle[i]>292.5 and Angle[i]<= 337.5) :\n",
        "      # 8 is emotion-bodysense\n",
        "      label.append(8)\n",
        "      vak_class.append(3)  # K\n",
        "\n",
        "    if (Angle[i]== 0 and x_comp[i]== 0 and y_comp[i]==0):\n",
        "      # 0 is center\n",
        "      label.append(0)\n",
        "      vak_class.append(0)  # None\n",
        "\n",
        "  return (label,vak_class)"
      ],
      "execution_count": null,
      "outputs": []
    },
    {
      "cell_type": "code",
      "metadata": {
        "id": "lz-G-8sRweJU"
      },
      "source": [
        "def make_dataframe():\n",
        "  EOG = []\n",
        "  EOG= get_eog_data(ctrl1['ControlSignal'][0], eog1['EOG'][0], eog1['EOG'][1] ,EOG)\n",
        "  EOG= get_eog_data(ctrl2['ControlSignal'][0], eog2['EOG'][0], eog2['EOG'][1] , EOG)\n",
        "  EOG = get_eog_data(ctrl3['ControlSignal'][0], eog3['EOG'][0], eog3['EOG'][1] , EOG)\n",
        "  EOG = get_eog_data(ctrl4['ControlSignal'][0], eog4['EOG'][0], eog4['EOG'][1] , EOG)\n",
        "  EOG = get_eog_data(ctrl5['ControlSignal'][0], eog5['EOG'][0], eog5['EOG'][1] , EOG)\n",
        "  EOG= get_eog_data(ctrl6['ControlSignal'][0], eog6['EOG'][0], eog6['EOG'][1] , EOG)\n",
        "\n",
        "  (x_comp,y_comp,Angle) = calculate_angle(tah,tav)\n",
        "  (label,vak_class) = get_class(x_comp,y_comp,Angle)\n",
        "  \n",
        "  dataset = {'EOG':EOG,'label':label,'Angle':Angle, 'class':vak_class, 'X Comp':x_comp, 'Y Comp':y_comp,}\n",
        "  df = pd.DataFrame(dataset)\n",
        "  \n",
        "  return (df,dataset)\n"
      ],
      "execution_count": null,
      "outputs": []
    },
    {
      "cell_type": "code",
      "metadata": {
        "id": "Fxstey8sya-a"
      },
      "source": [
        "(df,dataset) = make_dataframe()"
      ],
      "execution_count": null,
      "outputs": []
    },
    {
      "cell_type": "code",
      "metadata": {
        "id": "clbgSCta3buE"
      },
      "source": [
        "# df.to_csv('EOG.csv',index = False,dtype='float32')"
      ],
      "execution_count": null,
      "outputs": []
    },
    {
      "cell_type": "code",
      "metadata": {
        "id": "bm66h1hN3rF8"
      },
      "source": [
        "# d = pd.read_csv('EOG.csv',dtype='float32')\n",
        "# d"
      ],
      "execution_count": null,
      "outputs": []
    },
    {
      "cell_type": "code",
      "metadata": {
        "id": "3ThcWHDYyfiW"
      },
      "source": [
        "def balance_data(df):\n",
        "  # pad the EOG sequences\n",
        "  EOG_padded = tf.keras.preprocessing.sequence.pad_sequences(\n",
        "    df['EOG'], padding=\"pre\", dtype='float32' )\n",
        "\n",
        "  # over sample minority class\n",
        "  overs = SMOTE()\n",
        "  EOG_padded,vak_class = overs.fit_resample(EOG_padded,df['class'])\n",
        "  return (EOG_padded,vak_class)\n"
      ],
      "execution_count": null,
      "outputs": []
    },
    {
      "cell_type": "code",
      "metadata": {
        "colab": {
          "base_uri": "https://localhost:8080/"
        },
        "id": "_0jNFh5N9_LK",
        "outputId": "f0d3c39b-1065-400f-d8c8-13ae77ee75ea"
      },
      "source": [
        "(EOG_padded,vak_class) = balance_data(df)"
      ],
      "execution_count": null,
      "outputs": [
        {
          "output_type": "stream",
          "text": [
            "/usr/local/lib/python3.7/dist-packages/sklearn/utils/deprecation.py:87: FutureWarning: Function safe_indexing is deprecated; safe_indexing is deprecated in version 0.22 and will be removed in version 0.24.\n",
            "  warnings.warn(msg, category=FutureWarning)\n",
            "/usr/local/lib/python3.7/dist-packages/sklearn/utils/deprecation.py:87: FutureWarning: Function safe_indexing is deprecated; safe_indexing is deprecated in version 0.22 and will be removed in version 0.24.\n",
            "  warnings.warn(msg, category=FutureWarning)\n",
            "/usr/local/lib/python3.7/dist-packages/sklearn/utils/deprecation.py:87: FutureWarning: Function safe_indexing is deprecated; safe_indexing is deprecated in version 0.22 and will be removed in version 0.24.\n",
            "  warnings.warn(msg, category=FutureWarning)\n"
          ],
          "name": "stderr"
        }
      ]
    },
    {
      "cell_type": "code",
      "metadata": {
        "id": "Fd_TwJWc0vK4"
      },
      "source": [
        "X_train_padded, X_test_padded, y_train, y_test = train_test_split( EOG_padded, vak_class, test_size=0.2, random_state=4)"
      ],
      "execution_count": null,
      "outputs": []
    },
    {
      "cell_type": "code",
      "metadata": {
        "id": "QYR1WoEW46Ut"
      },
      "source": [
        "# One hot encoding\n",
        "y_train = np.array(y_train)\n",
        "y_test = np.array(y_test)\n",
        "num_classes = 4\n",
        "y_train_one_hot = np_utils.to_categorical(y_train,num_classes)\n",
        "y_test_one_hot = np_utils.to_categorical(y_test,num_classes)"
      ],
      "execution_count": null,
      "outputs": []
    },
    {
      "cell_type": "code",
      "metadata": {
        "colab": {
          "base_uri": "https://localhost:8080/"
        },
        "id": "AhLqdahf-MLy",
        "outputId": "48f88696-9607-4754-f120-1c083737af67"
      },
      "source": [
        "neigh = KNeighborsClassifier(n_neighbors=3,p=2)\n",
        "neigh.fit(X_train_padded, y_train)"
      ],
      "execution_count": null,
      "outputs": [
        {
          "output_type": "execute_result",
          "data": {
            "text/plain": [
              "KNeighborsClassifier(algorithm='auto', leaf_size=30, metric='minkowski',\n",
              "                     metric_params=None, n_jobs=None, n_neighbors=3, p=2,\n",
              "                     weights='uniform')"
            ]
          },
          "metadata": {
            "tags": []
          },
          "execution_count": 342
        }
      ]
    },
    {
      "cell_type": "code",
      "metadata": {
        "colab": {
          "base_uri": "https://localhost:8080/",
          "height": 296
        },
        "id": "u-f5Egg19fpv",
        "outputId": "a91b3823-831a-4ee4-d3aa-2fcd322fd9fa"
      },
      "source": [
        "y_pred=neigh.predict(X_test_padded)\n",
        "\n",
        "confusion_matrix=pd.crosstab(y_test,y_pred,rownames=['Actual'],colnames=['Predicted'])\n",
        "sn.heatmap(confusion_matrix,annot=True)"
      ],
      "execution_count": null,
      "outputs": [
        {
          "output_type": "execute_result",
          "data": {
            "text/plain": [
              "<matplotlib.axes._subplots.AxesSubplot at 0x7fb32430c210>"
            ]
          },
          "metadata": {
            "tags": []
          },
          "execution_count": 343
        },
        {
          "output_type": "display_data",
          "data": {
            "image/png": "[encoded data removed]",
            "text/plain": [
              "<Figure size 432x288 with 2 Axes>"
            ]
          },
          "metadata": {
            "tags": [],
            "needs_background": "light"
          }
        }
      ]
    },
    {
      "cell_type": "code",
      "metadata": {
        "colab": {
          "base_uri": "https://localhost:8080/"
        },
        "id": "JA6wp59KAclv",
        "outputId": "3d13bbdf-f155-479c-d94a-0a1955f084bc"
      },
      "source": [
        "accuracy = accuracy_score(y_test, y_pred)\n",
        "print('Accuracy:',accuracy)"
      ],
      "execution_count": null,
      "outputs": [
        {
          "output_type": "stream",
          "text": [
            "Accuracy: 0.910410094637224\n"
          ],
          "name": "stdout"
        }
      ]
    },
    {
      "cell_type": "code",
      "metadata": {
        "colab": {
          "base_uri": "https://localhost:8080/"
        },
        "id": "4y4eCxdCAw-k",
        "outputId": "e562b80c-7168-4c04-c4bf-2db540f9c76d"
      },
      "source": [
        "count = Counter(y_pred)\n",
        "count_sum = count[1]+count[2]+count[3]\n",
        "visual = 100* count[1]/count_sum\n",
        "audit = 100* count[2]/count_sum\n",
        "kines = 100* count[3]/count_sum\n",
        "\n",
        "print(\"Visual:\", round(visual,2),\"%\")\n",
        "print(\"Auditory:\", round(audit,2),\"%\")\n",
        "print(\"Kinesthetic:\", round(kines,2),\"%\")"
      ],
      "execution_count": null,
      "outputs": [
        {
          "output_type": "stream",
          "text": [
            "Visual: 35.74 %\n",
            "Auditory: 29.43 %\n",
            "Kinesthetic: 34.84 %\n"
          ],
          "name": "stdout"
        }
      ]
    },
    {
      "cell_type": "code",
      "metadata": {
        "colab": {
          "base_uri": "https://localhost:8080/"
        },
        "id": "oFHv03bEDFCY",
        "outputId": "81d011fe-ce9d-4f3a-c548-00849b3d5dea"
      },
      "source": [
        "import joblib\n",
        "joblib.dump(neigh, 'eog_model.pkl')\n",
        "model = joblib.load('eog_model.pkl' , mmap_mode ='r')\n",
        "y_pred1 = model.predict(X_test_padded) \n",
        "accuracy_score(y_test,y_pred1)"
      ],
      "execution_count": null,
      "outputs": [
        {
          "output_type": "execute_result",
          "data": {
            "text/plain": [
              "0.910410094637224"
            ]
          },
          "metadata": {
            "tags": []
          },
          "execution_count": 353
        }
      ]
    },
    {
      "cell_type": "code",
      "metadata": {
        "id": "2Vt8Ddqqo6if"
      },
      "source": [
        "import pickle\n",
        "\n",
        "train_test_data = {'X_train_padded':X_train_padded, 'X_test_padded':X_test_padded, 'y_train':y_train, 'y_test':y_test}\n",
        "\n",
        "# Store data (serialize)\n",
        "with open('train_test_data.pickle', 'wb') as file:\n",
        "    pickle.dump(train_test_data, file, protocol=pickle.HIGHEST_PROTOCOL)\n"
      ],
      "execution_count": null,
      "outputs": []
    },
    {
      "cell_type": "code",
      "metadata": {
        "colab": {
          "base_uri": "https://localhost:8080/"
        },
        "id": "1O7dFCSmpRYi",
        "outputId": "60cfa433-79b2-4135-f2c6-eef70e86032e"
      },
      "source": [
        "# Load data (deserialize)\n",
        "with open('train_test_data.pickle', 'rb') as file:\n",
        "    data = pickle.load(file)\n",
        "\n",
        "data"
      ],
      "execution_count": null,
      "outputs": [
        {
          "output_type": "execute_result",
          "data": {
            "text/plain": [
              "{'X_test_padded': array([[    0.      ,     0.      ,     0.      , ...,  -179.60475 ,\n",
              "           287.9239  ,  -178.23112 ],\n",
              "        [    0.      ,     0.      ,     0.      , ...,  1263.2612  ,\n",
              "           432.5039  ,  1262.606   ],\n",
              "        [    0.      ,     0.      ,     0.      , ...,  -669.2541  ,\n",
              "         -1372.0204  ,  -665.76825 ],\n",
              "        ...,\n",
              "        [    0.      ,     0.      ,     0.      , ..., -1464.7695  ,\n",
              "           -77.344696, -1463.0955  ],\n",
              "        [    0.      ,     0.      ,     0.      , ...,  -726.99634 ,\n",
              "         -1422.7363  ,  -727.00586 ],\n",
              "        [    0.      ,     0.      ,     0.      , ..., -1192.1366  ,\n",
              "          1795.7418  , -1190.1003  ]], dtype=float32),\n",
              " 'X_train_padded': array([[    0.      ,     0.      ,     0.      , ...,  1593.7415  ,\n",
              "         -1586.6338  ,  1594.2483  ],\n",
              "        [    0.      ,     0.      ,     0.      , ...,   -51.04249 ,\n",
              "           509.21487 ,   -51.66865 ],\n",
              "        [    0.      ,     0.      ,     0.      , ..., -1011.93445 ,\n",
              "          -816.3972  , -1011.3729  ],\n",
              "        ...,\n",
              "        [    0.      ,     0.      ,     0.      , ...,   806.07886 ,\n",
              "         -1264.5103  ,   806.09717 ],\n",
              "        [    0.      ,     0.      ,     0.      , ..., -4999.4863  ,\n",
              "           -54.833984, -4997.9883  ],\n",
              "        [    0.      ,     0.      ,     0.      , ...,  1462.7083  ,\n",
              "         -1634.1133  ,  1463.4897  ]], dtype=float32),\n",
              " 'y_test': array([1, 1, 3, ..., 0, 3, 1]),\n",
              " 'y_train': array([0, 2, 1, ..., 0, 3, 0])}"
            ]
          },
          "metadata": {
            "tags": []
          },
          "execution_count": 348
        }
      ]
    },
    {
      "cell_type": "code",
      "metadata": {
        "id": "XDI0FxGipxHY"
      },
      "source": [
        "model = joblib.load('eog_model.pkl' , mmap_mode ='r')\n",
        "test_X = data['X_test_padded']\n",
        "pred_y = model.predict(test_X)"
      ],
      "execution_count": null,
      "outputs": []
    },
    {
      "cell_type": "code",
      "metadata": {
        "colab": {
          "base_uri": "https://localhost:8080/"
        },
        "id": "ND9i7gYYrHO9",
        "outputId": "a5051159-bd08-4ec2-afd5-f3e1670b1754"
      },
      "source": [
        "pred_y.shape\n",
        "# test_y.shape"
      ],
      "execution_count": null,
      "outputs": [
        {
          "output_type": "execute_result",
          "data": {
            "text/plain": [
              "(1585,)"
            ]
          },
          "metadata": {
            "tags": []
          },
          "execution_count": 350
        }
      ]
    },
    {
      "cell_type": "code",
      "metadata": {
        "colab": {
          "base_uri": "https://localhost:8080/"
        },
        "id": "q8DGxQliq3Se",
        "outputId": "117e2187-83b7-435b-d1c7-e5614d83f385"
      },
      "source": [
        "test_y = data['y_test']\n",
        "accuracy_score(test_y , pred_y)"
      ],
      "execution_count": null,
      "outputs": [
        {
          "output_type": "execute_result",
          "data": {
            "text/plain": [
              "0.910410094637224"
            ]
          },
          "metadata": {
            "tags": []
          },
          "execution_count": 351
        }
      ]
    },
    {
      "cell_type": "code",
      "metadata": {
        "id": "GCeM4HS65imc"
      },
      "source": [
        "joblib.dump(neigh, '/content/drive/MyDrive/Datasets/eog_model.pkl')\n",
        "with open('/content/drive/MyDrive/Datasets/train_test_data.pickle', 'wb') as file:\n",
        "    pickle.dump(train_test_data, file, protocol=pickle.HIGHEST_PROTOCOL)"
      ],
      "execution_count": null,
      "outputs": []
    }
  ]
}